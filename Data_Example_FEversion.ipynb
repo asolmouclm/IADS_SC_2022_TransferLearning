{
  "nbformat": 4,
  "nbformat_minor": 0,
  "metadata": {
    "colab": {
      "name": "Copy of Data_Example.ipynb",
      "provenance": [],
      "include_colab_link": true
    },
    "kernelspec": {
      "name": "python3",
      "display_name": "Python 3"
    },
    "language_info": {
      "name": "python"
    },
    "accelerator": "GPU"
  },
  "cells": [
    {
      "cell_type": "markdown",
      "metadata": {
        "id": "view-in-github",
        "colab_type": "text"
      },
      "source": [
        "<a href=\"https://colab.research.google.com/github/asolmouclm/IADS_SC_2022_TransferLearning/blob/main/Data_Example_FEversion.ipynb\" target=\"_parent\"><img src=\"https://colab.research.google.com/assets/colab-badge.svg\" alt=\"Open In Colab\"/></a>"
      ]
    },
    {
      "cell_type": "code",
      "metadata": {
        "colab": {
          "base_uri": "https://localhost:8080/"
        },
        "id": "i8W1ONlZVBl0",
        "outputId": "d1ce9d1f-937f-4ef3-8afd-24cf263c6b0b"
      },
      "source": [
        "!git clone https://github.com/sagihaider/IADS_SC_2022_TransferLearning.git "
      ],
      "execution_count": null,
      "outputs": [
        {
          "output_type": "stream",
          "name": "stdout",
          "text": [
            "fatal: destination path 'IADS_SC_2022_TransferLearning' already exists and is not an empty directory.\n"
          ]
        }
      ]
    },
    {
      "cell_type": "code",
      "metadata": {
        "colab": {
          "base_uri": "https://localhost:8080/"
        },
        "id": "s5JaaX7yVYMQ",
        "outputId": "0eededdf-3513-4fa3-889a-1993a9cd30b8"
      },
      "source": [
        "from zipfile import ZipFile\n",
        "file_name = \"/content/IADS_SC_2022_TransferLearning/data.zip\"\n",
        "with ZipFile(file_name, 'r') as zip:\n",
        "  zip.extractall()\n",
        "  print('done')\n"
      ],
      "execution_count": null,
      "outputs": [
        {
          "output_type": "stream",
          "name": "stdout",
          "text": [
            "done\n"
          ]
        }
      ]
    },
    {
      "cell_type": "code",
      "metadata": {
        "id": "23cgWzL-XLKo"
      },
      "source": [
        "import numpy as np\n",
        "import os\n",
        "import time\n",
        "from tensorflow.keras.preprocessing.image import load_img\n",
        "from tensorflow.keras.preprocessing.image import img_to_array\n",
        "from tensorflow.keras.applications.vgg16 import preprocess_input\n",
        "from tensorflow.keras.applications.vgg16 import decode_predictions\n",
        "from tensorflow.keras.preprocessing import image\n",
        "from tensorflow.keras.preprocessing.image import load_img\n",
        "# from keras.applications.imagenet_utils import preprocess_input\n",
        "# from keras.applications.imagenet_utils import decode_predictions\n",
        "# from keras.layers import Dense, Activation, Flatten\n",
        "# from keras.layers import merge, Input\n",
        "# from keras.models import Model\n",
        "# from keras.utils import np_utils\n",
        "from sklearn.utils import shuffle\n",
        "from sklearn.model_selection import train_test_split"
      ],
      "execution_count": null,
      "outputs": []
    },
    {
      "cell_type": "code",
      "metadata": {
        "colab": {
          "base_uri": "https://localhost:8080/"
        },
        "id": "y9gLKtPpXuD2",
        "outputId": "1ae049fc-0a57-44be-ecb0-dc4e8d0c92ff"
      },
      "source": [
        "#Loading the training data\n",
        "\n",
        "PATH = os.getcwd()\n",
        "# Define data path\n",
        "data_path = PATH + '/data'\n",
        "data_dir_list = os.listdir(data_path)\n",
        "\n",
        "#%% \n",
        "\n",
        "img_data_list=[]\n",
        "\n",
        "for dataset in data_dir_list:\n",
        "\timg_list=os.listdir(data_path+'/'+ dataset)\n",
        "\tprint ('Loaded the images of dataset-'+'{}\\n'.format(dataset))\n",
        "\tfor img in img_list:\n",
        "\t\timg_path = data_path + '/'+ dataset + '/'+ img\n",
        "\t\timg = image.load_img(img_path, target_size=(224, 224))\n",
        "\t\tx = image.img_to_array(img)\n",
        "\t\tx = np.expand_dims(x, axis=0)\n",
        "\t\tx = preprocess_input(x)\n",
        "#\t\tx = x/255\n",
        "#\t\tprint('Input image shape:', x.shape)\n",
        "\t\timg_data_list.append(x)\n",
        "\n",
        "#%% \n",
        "img_data = np.array(img_data_list)\n",
        "#img_data = img_data.astype('float32')\n",
        "print (img_data.shape)\n",
        "img_data=np.rollaxis(img_data,1,0)\n",
        "print (img_data.shape)\n",
        "img_data=img_data[0]\n",
        "print (img_data.shape)"
      ],
      "execution_count": null,
      "outputs": [
        {
          "output_type": "stream",
          "name": "stdout",
          "text": [
            "Loaded the images of dataset-Humans\n",
            "\n",
            "Loaded the images of dataset-dogs\n",
            "\n",
            "Loaded the images of dataset-cats\n",
            "\n",
            "Loaded the images of dataset-horses\n",
            "\n",
            "(808, 1, 224, 224, 3)\n",
            "(1, 808, 224, 224, 3)\n",
            "(808, 224, 224, 3)\n"
          ]
        }
      ]
    },
    {
      "cell_type": "code",
      "metadata": {
        "id": "Knpz0x3EYFdC"
      },
      "source": [
        "#Define the number of classes\n",
        "import tensorflow as tf\n",
        "num_classes = 4\n",
        "num_of_samples = img_data.shape[0]\n",
        "labels = np.ones((num_of_samples,),dtype='int64')\n",
        "\n",
        "labels[0:202]=0\n",
        "labels[202:404]=1\n",
        "labels[404:606]=2\n",
        "labels[606:]=3\n",
        "\n",
        "names = ['cats','dogs','horses','humans']\n",
        "\n",
        "# convert class labels to on-hot encoding\n",
        "Y = tf.keras.utils.to_categorical(labels, num_classes)\n",
        "\n",
        "#Shuffle the dataset\n",
        "x,y = shuffle(img_data,Y, random_state=2)\n",
        "# Split the dataset\n",
        "X_train, X_test, y_train, y_test = train_test_split(x, y, test_size=0.2, random_state=2)"
      ],
      "execution_count": null,
      "outputs": []
    },
    {
      "cell_type": "code",
      "source": [
        "print(X_train.shape)\n",
        "print(y_train.shape)\n",
        "\n",
        "print(X_test.shape)\n",
        "print(y_test.shape)"
      ],
      "metadata": {
        "id": "XDdRFkp_3O82",
        "outputId": "402abf00-f953-4813-ceb9-59ba5222cb38",
        "colab": {
          "base_uri": "https://localhost:8080/"
        }
      },
      "execution_count": null,
      "outputs": [
        {
          "output_type": "stream",
          "name": "stdout",
          "text": [
            "(646, 224, 224, 3)\n",
            "(646, 4)\n",
            "(162, 224, 224, 3)\n",
            "(162, 4)\n"
          ]
        }
      ]
    },
    {
      "cell_type": "code",
      "source": [
        "IMG_SIZE =224\n",
        "## VGG 16\n",
        "from tensorflow.keras.applications import VGG16\n",
        "from tensorflow.keras.layers import Dense, Input\n",
        "from tensorflow.keras import Model\n",
        "\n",
        "img_input = Input(shape=(IMG_SIZE, IMG_SIZE, 3))"
      ],
      "metadata": {
        "id": "viZ9q_p20RKT"
      },
      "execution_count": null,
      "outputs": []
    },
    {
      "cell_type": "code",
      "source": [
        "model = VGG16(\n",
        "    include_top=True,\n",
        "    weights=\"imagenet\",\n",
        "    input_tensor=img_input,\n",
        "    input_shape=None,\n",
        "    pooling=None,\n",
        "    classes=1000,\n",
        "    classifier_activation=\"softmax\")\n",
        "model.summary()"
      ],
      "metadata": {
        "id": "nZNaVlgX0tLa",
        "outputId": "0d67cb04-57a6-46df-a7f4-878bbc0b827f",
        "colab": {
          "base_uri": "https://localhost:8080/"
        }
      },
      "execution_count": null,
      "outputs": [
        {
          "output_type": "stream",
          "name": "stdout",
          "text": [
            "Model: \"vgg16\"\n",
            "_________________________________________________________________\n",
            " Layer (type)                Output Shape              Param #   \n",
            "=================================================================\n",
            " input_1 (InputLayer)        [(None, 224, 224, 3)]     0         \n",
            "                                                                 \n",
            " block1_conv1 (Conv2D)       (None, 224, 224, 64)      1792      \n",
            "                                                                 \n",
            " block1_conv2 (Conv2D)       (None, 224, 224, 64)      36928     \n",
            "                                                                 \n",
            " block1_pool (MaxPooling2D)  (None, 112, 112, 64)      0         \n",
            "                                                                 \n",
            " block2_conv1 (Conv2D)       (None, 112, 112, 128)     73856     \n",
            "                                                                 \n",
            " block2_conv2 (Conv2D)       (None, 112, 112, 128)     147584    \n",
            "                                                                 \n",
            " block2_pool (MaxPooling2D)  (None, 56, 56, 128)       0         \n",
            "                                                                 \n",
            " block3_conv1 (Conv2D)       (None, 56, 56, 256)       295168    \n",
            "                                                                 \n",
            " block3_conv2 (Conv2D)       (None, 56, 56, 256)       590080    \n",
            "                                                                 \n",
            " block3_conv3 (Conv2D)       (None, 56, 56, 256)       590080    \n",
            "                                                                 \n",
            " block3_pool (MaxPooling2D)  (None, 28, 28, 256)       0         \n",
            "                                                                 \n",
            " block4_conv1 (Conv2D)       (None, 28, 28, 512)       1180160   \n",
            "                                                                 \n",
            " block4_conv2 (Conv2D)       (None, 28, 28, 512)       2359808   \n",
            "                                                                 \n",
            " block4_conv3 (Conv2D)       (None, 28, 28, 512)       2359808   \n",
            "                                                                 \n",
            " block4_pool (MaxPooling2D)  (None, 14, 14, 512)       0         \n",
            "                                                                 \n",
            " block5_conv1 (Conv2D)       (None, 14, 14, 512)       2359808   \n",
            "                                                                 \n",
            " block5_conv2 (Conv2D)       (None, 14, 14, 512)       2359808   \n",
            "                                                                 \n",
            " block5_conv3 (Conv2D)       (None, 14, 14, 512)       2359808   \n",
            "                                                                 \n",
            " block5_pool (MaxPooling2D)  (None, 7, 7, 512)         0         \n",
            "                                                                 \n",
            " flatten (Flatten)           (None, 25088)             0         \n",
            "                                                                 \n",
            " fc1 (Dense)                 (None, 4096)              102764544 \n",
            "                                                                 \n",
            " fc2 (Dense)                 (None, 4096)              16781312  \n",
            "                                                                 \n",
            " predictions (Dense)         (None, 1000)              4097000   \n",
            "                                                                 \n",
            "=================================================================\n",
            "Total params: 138,357,544\n",
            "Trainable params: 138,357,544\n",
            "Non-trainable params: 0\n",
            "_________________________________________________________________\n"
          ]
        }
      ]
    },
    {
      "cell_type": "code",
      "source": [
        "last_layer = model.get_layer('fc2').output\n",
        "out = Dense(4, activation='softmax', name='output')(last_layer)  ## 4 classes\n",
        "model = Model(img_input, out)\n",
        "\n",
        "for layer in model.layers[:-1]:\n",
        "\tlayer.trainable = False\n",
        "\n",
        "model.summary()"
      ],
      "metadata": {
        "id": "3O233x3l03L6",
        "outputId": "4edefa57-b30a-4f86-e3d1-6473d9e178bf",
        "colab": {
          "base_uri": "https://localhost:8080/"
        }
      },
      "execution_count": null,
      "outputs": [
        {
          "output_type": "stream",
          "name": "stdout",
          "text": [
            "Model: \"model\"\n",
            "_________________________________________________________________\n",
            " Layer (type)                Output Shape              Param #   \n",
            "=================================================================\n",
            " input_1 (InputLayer)        [(None, 224, 224, 3)]     0         \n",
            "                                                                 \n",
            " block1_conv1 (Conv2D)       (None, 224, 224, 64)      1792      \n",
            "                                                                 \n",
            " block1_conv2 (Conv2D)       (None, 224, 224, 64)      36928     \n",
            "                                                                 \n",
            " block1_pool (MaxPooling2D)  (None, 112, 112, 64)      0         \n",
            "                                                                 \n",
            " block2_conv1 (Conv2D)       (None, 112, 112, 128)     73856     \n",
            "                                                                 \n",
            " block2_conv2 (Conv2D)       (None, 112, 112, 128)     147584    \n",
            "                                                                 \n",
            " block2_pool (MaxPooling2D)  (None, 56, 56, 128)       0         \n",
            "                                                                 \n",
            " block3_conv1 (Conv2D)       (None, 56, 56, 256)       295168    \n",
            "                                                                 \n",
            " block3_conv2 (Conv2D)       (None, 56, 56, 256)       590080    \n",
            "                                                                 \n",
            " block3_conv3 (Conv2D)       (None, 56, 56, 256)       590080    \n",
            "                                                                 \n",
            " block3_pool (MaxPooling2D)  (None, 28, 28, 256)       0         \n",
            "                                                                 \n",
            " block4_conv1 (Conv2D)       (None, 28, 28, 512)       1180160   \n",
            "                                                                 \n",
            " block4_conv2 (Conv2D)       (None, 28, 28, 512)       2359808   \n",
            "                                                                 \n",
            " block4_conv3 (Conv2D)       (None, 28, 28, 512)       2359808   \n",
            "                                                                 \n",
            " block4_pool (MaxPooling2D)  (None, 14, 14, 512)       0         \n",
            "                                                                 \n",
            " block5_conv1 (Conv2D)       (None, 14, 14, 512)       2359808   \n",
            "                                                                 \n",
            " block5_conv2 (Conv2D)       (None, 14, 14, 512)       2359808   \n",
            "                                                                 \n",
            " block5_conv3 (Conv2D)       (None, 14, 14, 512)       2359808   \n",
            "                                                                 \n",
            " block5_pool (MaxPooling2D)  (None, 7, 7, 512)         0         \n",
            "                                                                 \n",
            " flatten (Flatten)           (None, 25088)             0         \n",
            "                                                                 \n",
            " fc1 (Dense)                 (None, 4096)              102764544 \n",
            "                                                                 \n",
            " fc2 (Dense)                 (None, 4096)              16781312  \n",
            "                                                                 \n",
            " output (Dense)              (None, 4)                 16388     \n",
            "                                                                 \n",
            "=================================================================\n",
            "Total params: 134,276,932\n",
            "Trainable params: 16,388\n",
            "Non-trainable params: 134,260,544\n",
            "_________________________________________________________________\n"
          ]
        }
      ]
    },
    {
      "cell_type": "code",
      "source": [
        "model.compile(loss='categorical_crossentropy',\n",
        "              optimizer='adam',\n",
        "              metrics=['acc'])"
      ],
      "metadata": {
        "id": "eeqxtvbs2aBh"
      },
      "execution_count": null,
      "outputs": []
    },
    {
      "cell_type": "code",
      "source": [
        "from tensorflow.keras.callbacks import EarlyStopping, ModelCheckpoint\n",
        "my_callbacks = [\n",
        "    EarlyStopping(monitor=\"val_loss\", patience=10, restore_best_weights=True),\n",
        "    ModelCheckpoint(filepath='vgg16_model.h5', save_best_only=True),\n",
        "]"
      ],
      "metadata": {
        "id": "2qLVtydB2zlj"
      },
      "execution_count": null,
      "outputs": []
    },
    {
      "cell_type": "code",
      "source": [
        "history = model.fit(X_train, y_train,\n",
        "                               batch_size=10,\n",
        "                               epochs=10, \n",
        "                               validation_data=(X_test, y_test),\n",
        "                               callbacks=my_callbacks)"
      ],
      "metadata": {
        "id": "Gb0Y5Zmq22Oq",
        "outputId": "94d232e0-d6a3-440d-becc-e5dd35f914de",
        "colab": {
          "base_uri": "https://localhost:8080/"
        }
      },
      "execution_count": null,
      "outputs": [
        {
          "output_type": "stream",
          "name": "stdout",
          "text": [
            "Epoch 1/10\n",
            "65/65 [==============================] - 15s 163ms/step - loss: 0.2259 - acc: 0.9241 - val_loss: 0.2052 - val_acc: 0.9383\n",
            "Epoch 2/10\n",
            "65/65 [==============================] - 8s 119ms/step - loss: 0.0205 - acc: 0.9892 - val_loss: 0.1918 - val_acc: 0.9630\n",
            "Epoch 3/10\n",
            "65/65 [==============================] - 8s 121ms/step - loss: 0.0054 - acc: 0.9985 - val_loss: 0.1516 - val_acc: 0.9691\n",
            "Epoch 4/10\n",
            "65/65 [==============================] - 6s 88ms/step - loss: 6.7204e-04 - acc: 1.0000 - val_loss: 0.1555 - val_acc: 0.9691\n",
            "Epoch 5/10\n",
            "65/65 [==============================] - 6s 89ms/step - loss: 5.3156e-04 - acc: 1.0000 - val_loss: 0.1580 - val_acc: 0.9753\n",
            "Epoch 6/10\n",
            "65/65 [==============================] - 6s 90ms/step - loss: 4.1356e-04 - acc: 1.0000 - val_loss: 0.1596 - val_acc: 0.9753\n",
            "Epoch 7/10\n",
            "65/65 [==============================] - 6s 91ms/step - loss: 3.5737e-04 - acc: 1.0000 - val_loss: 0.1601 - val_acc: 0.9753\n",
            "Epoch 8/10\n",
            "65/65 [==============================] - 6s 91ms/step - loss: 3.1453e-04 - acc: 1.0000 - val_loss: 0.1620 - val_acc: 0.9753\n",
            "Epoch 9/10\n",
            "65/65 [==============================] - 6s 89ms/step - loss: 2.7854e-04 - acc: 1.0000 - val_loss: 0.1622 - val_acc: 0.9753\n",
            "Epoch 10/10\n",
            "65/65 [==============================] - 6s 88ms/step - loss: 2.4943e-04 - acc: 1.0000 - val_loss: 0.1626 - val_acc: 0.9753\n"
          ]
        }
      ]
    },
    {
      "cell_type": "code",
      "source": [
        "import matplotlib.pyplot as plt\n",
        "\n",
        "acc = history.history['acc']\n",
        "val_acc = history.history['val_acc']\n",
        "loss = history.history['loss']\n",
        "val_loss = history.history['val_loss']\n",
        "\n",
        "epochs = range(1, len(acc) + 1)\n",
        "\n",
        "plt.plot(epochs, acc, 'bo', label='Training acc')\n",
        "plt.plot(epochs, val_acc, 'b', label='Validation acc')\n",
        "plt.title('Training and validation accuracy')\n",
        "plt.legend()\n",
        "\n",
        "plt.figure()\n",
        "\n",
        "plt.plot(epochs, loss, 'bo', label='Training loss')\n",
        "plt.plot(epochs, val_loss, 'b', label='Validation loss')\n",
        "plt.title('Training and validation loss')\n",
        "plt.legend()\n",
        "\n",
        "plt.show()"
      ],
      "metadata": {
        "id": "Qpo0X6uv3hsE",
        "outputId": "d4c0921d-6208-4dc2-9a28-20b0c232f3ca",
        "colab": {
          "base_uri": "https://localhost:8080/",
          "height": 545
        }
      },
      "execution_count": null,
      "outputs": [
        {
          "output_type": "display_data",
          "data": {
            "text/plain": [
              "<Figure size 432x288 with 1 Axes>"
            ],
            "image/png": "[encoded data removed]"
          },
          "metadata": {
            "needs_background": "light"
          }
        },
        {
          "output_type": "display_data",
          "data": {
            "text/plain": [
              "<Figure size 432x288 with 1 Axes>"
            ],
            "image/png": "[encoded data removed]"
          },
          "metadata": {
            "needs_background": "light"
          }
        }
      ]
    },
    {
      "cell_type": "code",
      "source": [
        "from sklearn.metrics import accuracy_score\n",
        "\n",
        "## Test Accuracy\n",
        "predictions = model.predict(X_test)\n",
        "ypred = predictions > 0.5\n",
        "test_acc = accuracy_score(y_test, ypred)\n",
        "\n",
        "from sklearn.metrics import precision_recall_fscore_support, roc_auc_score\n",
        "\n",
        "precision, recall, f1score, _ = precision_recall_fscore_support(y_test, ypred, average='weighted')\n",
        "\n",
        "auc = roc_auc_score(y_test, ypred)\n",
        "\n",
        "print(\"Train Accuracy:\\t\", acc[-1])\n",
        "print(\"Val Accuracy:\\t\", val_acc[-1])\n",
        "print(\"Test Accuracy:\\t\", test_acc)\n",
        "print(\"Precision:\\t\", precision)\n",
        "print(\"Recall:\\t\\t\", recall)\n",
        "print(\"F1 Score:\\t\", f1score)\n",
        "print(\"AUC:\\t\\t\", auc)"
      ],
      "metadata": {
        "id": "aLl_JKAn6s-Q",
        "outputId": "ecb46a20-b270-4ffb-850f-107d940b5f63",
        "colab": {
          "base_uri": "https://localhost:8080/"
        }
      },
      "execution_count": null,
      "outputs": [
        {
          "output_type": "stream",
          "name": "stdout",
          "text": [
            "Train Accuracy:\t 1.0\n",
            "Val Accuracy:\t 0.9753086566925049\n",
            "Test Accuracy:\t 0.9691358024691358\n",
            "Precision:\t 0.9751503640392529\n",
            "Recall:\t\t 0.9691358024691358\n",
            "F1 Score:\t 0.9721050164088139\n",
            "AUC:\t\t 0.9801860425663433\n"
          ]
        }
      ]
    }
  ]
}